{
  "nbformat": 4,
  "nbformat_minor": 0,
  "metadata": {
    "colab": {
      "name": "Copy of ISPR_project.ipynb",
      "provenance": [],
      "collapsed_sections": []
    },
    "kernelspec": {
      "name": "python3",
      "display_name": "Python 3"
    },
    "accelerator": "GPU"
  },
  "cells": [
    {
      "cell_type": "code",
      "metadata": {
        "id": "7qNPZdlzbl1l",
        "outputId": "51d2e3a1-4cd5-4ff9-d1f5-faa6bf4beb83",
        "colab": {
          "base_uri": "https://localhost:8080/",
          "height": 697
        }
      },
      "source": [
        "!pip3 install --upgrade --quiet tensorflow-gpu\n",
        "!pip install --upgrade --quiet PyDrive\n",
        "!pip install -U tensorboardcolab\n",
        "!pip install svgwrite\n",
        "\n",
        "\n",
        "\n",
        "%tensorflow_version 2.x\n",
        "\n",
        "!pip install --upgrade --quiet tensorflow==2.0.0b1\n",
        "!pip install --upgrade --quiet tensorflow-gpu==2.0.0b1\n",
        "!pip install --quiet keras==2.3.1\n",
        "!pip install --upgrade --quiet PyDrive\n",
        "!pip install -U tensorboardcolab\n",
        "!pip install svgwrite\n",
        "\n",
        "import tensorflow as tf"
      ],
      "execution_count": 1,
      "outputs": [
        {
          "output_type": "stream",
          "text": [
            "\u001b[K     |████████████████████████████████| 320.4MB 51kB/s \n",
            "\u001b[?25hRequirement already up-to-date: tensorboardcolab in /usr/local/lib/python3.6/dist-packages (0.0.22)\n",
            "Collecting svgwrite\n",
            "\u001b[?25l  Downloading https://files.pythonhosted.org/packages/1c/85/1dc25b36c3ac4f3fe285d33065fc0f2ea7bdfb9209d6369e01a3e8ef6252/svgwrite-1.4-py3-none-any.whl (66kB)\n",
            "\u001b[K     |████████████████████████████████| 71kB 4.4MB/s \n",
            "\u001b[?25hInstalling collected packages: svgwrite\n",
            "Successfully installed svgwrite-1.4\n",
            "\u001b[K     |████████████████████████████████| 87.9MB 1.2MB/s \n",
            "\u001b[K     |████████████████████████████████| 501kB 52.6MB/s \n",
            "\u001b[K     |████████████████████████████████| 51kB 7.1MB/s \n",
            "\u001b[K     |████████████████████████████████| 3.1MB 54.8MB/s \n",
            "\u001b[K     |████████████████████████████████| 348.9MB 22kB/s \n",
            "\u001b[K     |████████████████████████████████| 378kB 9.1MB/s \n",
            "\u001b[?25hRequirement already up-to-date: tensorboardcolab in /usr/local/lib/python3.6/dist-packages (0.0.22)\n",
            "Requirement already satisfied: svgwrite in /usr/local/lib/python3.6/dist-packages (1.4)\n"
          ],
          "name": "stdout"
        },
        {
          "output_type": "stream",
          "text": [
            "/usr/local/lib/python3.6/dist-packages/tensorflow/python/framework/dtypes.py:516: FutureWarning: Passing (type, 1) or '1type' as a synonym of type is deprecated; in a future version of numpy, it will be understood as (type, (1,)) / '(1,)type'.\n",
            "  _np_qint8 = np.dtype([(\"qint8\", np.int8, 1)])\n",
            "/usr/local/lib/python3.6/dist-packages/tensorflow/python/framework/dtypes.py:517: FutureWarning: Passing (type, 1) or '1type' as a synonym of type is deprecated; in a future version of numpy, it will be understood as (type, (1,)) / '(1,)type'.\n",
            "  _np_quint8 = np.dtype([(\"quint8\", np.uint8, 1)])\n",
            "/usr/local/lib/python3.6/dist-packages/tensorflow/python/framework/dtypes.py:518: FutureWarning: Passing (type, 1) or '1type' as a synonym of type is deprecated; in a future version of numpy, it will be understood as (type, (1,)) / '(1,)type'.\n",
            "  _np_qint16 = np.dtype([(\"qint16\", np.int16, 1)])\n",
            "/usr/local/lib/python3.6/dist-packages/tensorflow/python/framework/dtypes.py:519: FutureWarning: Passing (type, 1) or '1type' as a synonym of type is deprecated; in a future version of numpy, it will be understood as (type, (1,)) / '(1,)type'.\n",
            "  _np_quint16 = np.dtype([(\"quint16\", np.uint16, 1)])\n",
            "/usr/local/lib/python3.6/dist-packages/tensorflow/python/framework/dtypes.py:520: FutureWarning: Passing (type, 1) or '1type' as a synonym of type is deprecated; in a future version of numpy, it will be understood as (type, (1,)) / '(1,)type'.\n",
            "  _np_qint32 = np.dtype([(\"qint32\", np.int32, 1)])\n",
            "/usr/local/lib/python3.6/dist-packages/tensorflow/python/framework/dtypes.py:525: FutureWarning: Passing (type, 1) or '1type' as a synonym of type is deprecated; in a future version of numpy, it will be understood as (type, (1,)) / '(1,)type'.\n",
            "  np_resource = np.dtype([(\"resource\", np.ubyte, 1)])\n",
            "/usr/local/lib/python3.6/dist-packages/tensorboard/compat/tensorflow_stub/dtypes.py:541: FutureWarning: Passing (type, 1) or '1type' as a synonym of type is deprecated; in a future version of numpy, it will be understood as (type, (1,)) / '(1,)type'.\n",
            "  _np_qint8 = np.dtype([(\"qint8\", np.int8, 1)])\n",
            "/usr/local/lib/python3.6/dist-packages/tensorboard/compat/tensorflow_stub/dtypes.py:542: FutureWarning: Passing (type, 1) or '1type' as a synonym of type is deprecated; in a future version of numpy, it will be understood as (type, (1,)) / '(1,)type'.\n",
            "  _np_quint8 = np.dtype([(\"quint8\", np.uint8, 1)])\n",
            "/usr/local/lib/python3.6/dist-packages/tensorboard/compat/tensorflow_stub/dtypes.py:543: FutureWarning: Passing (type, 1) or '1type' as a synonym of type is deprecated; in a future version of numpy, it will be understood as (type, (1,)) / '(1,)type'.\n",
            "  _np_qint16 = np.dtype([(\"qint16\", np.int16, 1)])\n",
            "/usr/local/lib/python3.6/dist-packages/tensorboard/compat/tensorflow_stub/dtypes.py:544: FutureWarning: Passing (type, 1) or '1type' as a synonym of type is deprecated; in a future version of numpy, it will be understood as (type, (1,)) / '(1,)type'.\n",
            "  _np_quint16 = np.dtype([(\"quint16\", np.uint16, 1)])\n",
            "/usr/local/lib/python3.6/dist-packages/tensorboard/compat/tensorflow_stub/dtypes.py:545: FutureWarning: Passing (type, 1) or '1type' as a synonym of type is deprecated; in a future version of numpy, it will be understood as (type, (1,)) / '(1,)type'.\n",
            "  _np_qint32 = np.dtype([(\"qint32\", np.int32, 1)])\n",
            "/usr/local/lib/python3.6/dist-packages/tensorboard/compat/tensorflow_stub/dtypes.py:550: FutureWarning: Passing (type, 1) or '1type' as a synonym of type is deprecated; in a future version of numpy, it will be understood as (type, (1,)) / '(1,)type'.\n",
            "  np_resource = np.dtype([(\"resource\", np.ubyte, 1)])\n"
          ],
          "name": "stderr"
        }
      ]
    },
    {
      "cell_type": "code",
      "metadata": {
        "id": "jYt4wH2giQCr",
        "outputId": "5310abc4-b07e-499f-cc6c-ad3ca3908783",
        "colab": {
          "base_uri": "https://localhost:8080/",
          "height": 135
        }
      },
      "source": [
        "!git clone https://github.com/MarioBonse/Sketch-rnn.git\n",
        "import os\n",
        "os.chdir(\"Sketch-rnn\")"
      ],
      "execution_count": 2,
      "outputs": [
        {
          "output_type": "stream",
          "text": [
            "Cloning into 'Sketch-rnn'...\n",
            "remote: Enumerating objects: 103, done.\u001b[K\n",
            "remote: Counting objects: 100% (103/103), done.\u001b[K\n",
            "remote: Compressing objects: 100% (98/98), done.\u001b[K\n",
            "remote: Total 285 (delta 40), reused 45 (delta 5), pack-reused 182\u001b[K\n",
            "Receiving objects: 100% (285/285), 368.02 MiB | 25.86 MiB/s, done.\n",
            "Resolving deltas: 100% (113/113), done.\n"
          ],
          "name": "stdout"
        }
      ]
    },
    {
      "cell_type": "code",
      "metadata": {
        "id": "cfByb0ohor7g",
        "outputId": "bec98159-0545-4a75-a9d7-a1b61241ff6c",
        "colab": {
          "base_uri": "https://localhost:8080/",
          "height": 34
        }
      },
      "source": [
        "import data_Manager \n",
        "from HyperParameters import HP\n",
        "import keras\n",
        "import matplotlib.pyplot as plt\n",
        "from train import *\n",
        "from tensorboardcolab import *\n",
        "import draw\n",
        "\n",
        "#tbc=TensorBoardColab()\n",
        "HP.data_folder = \"data/\"\n",
        "HP.data_name = \"carrot.npz\"\n",
        "HP.data_location = \"data/carrot.npz\"\n",
        "datas = data_Manager.Data()\n",
        "\n",
        "# create the callback for data augmentaion during training\n",
        "train_generator = data_Manager.DataGenerator(datas.train)\n",
        "validation_encoder = datas.valid\n",
        "validation_decoder = data_Manager.create_decoder_input(validation_encoder)\n",
        "vaidation = [validation_encoder, validation_decoder]\n",
        "HP.epochs = 10\n",
        "\n",
        "\n"
      ],
      "execution_count": 3,
      "outputs": [
        {
          "output_type": "stream",
          "text": [
            "Using TensorFlow backend.\n"
          ],
          "name": "stderr"
        }
      ]
    },
    {
      "cell_type": "code",
      "metadata": {
        "id": "JMO1HvnekXNi",
        "outputId": "f2323031-2407-40a3-d8dd-97f115748289",
        "colab": {
          "base_uri": "https://localhost:8080/",
          "height": 178
        }
      },
      "source": [
        "draw.draw_strokes(datas.train[0], svg_filename=\"carrot.svg\")"
      ],
      "execution_count": 4,
      "outputs": [
        {
          "output_type": "display_data",
          "data": {
            "text/plain": [
              "<IPython.core.display.SVG object>"
            ],
            "image/svg+xml": "<svg baseProfile=\"full\" height=\"157.71101111776719\" version=\"1.1\" width=\"89.70702528493959\" xmlns=\"http://www.w3.org/2000/svg\" xmlns:ev=\"http://www.w3.org/2001/xml-events\" xmlns:xlink=\"http://www.w3.org/1999/xlink\"><defs/><rect fill=\"white\" height=\"157.71101111776719\" width=\"89.70702528493959\" x=\"0\" y=\"0\"/><path d=\"M37.32286991601573,127.69058263346449 m-1.1410064737051608,0.0 l-2.0538116526692893,-2.2820129474103217 -7.530642726454062,-14.148480273943994 l-1.597409063187225,-5.020428484302708 0.0,-31.71997996900347 l2.2820129474103217,-7.987045315936125 2.738415536892386,-2.966616831633418 l11.410064737051608,-8.215246610677157 5.020428484302708,-1.369207768446193 l9.812655673864382,0.22820129474103215 2.2820129474103217,2.2820129474103217 l1.1410064737051608,3.19481812637445 0.0,14.148480273943994 l-6.3896362527489,22.59192817936218 -1.369207768446193,2.510214242151354 l-0.9128051789641286,14.148480273943994 -0.9128051789641286,3.8794220105975468 l-6.1614349580078684,13.692077684461928 -2.2820129474103217,2.0538116526692893 l0.0,-2.738415536892386 m-15.061285452908123,-47.009466716652625 l3.6512207158565144,-1.597409063187225 10.269058263346446,-1.1410064737051608 l7.987045315936125,-2.2820129474103217 7.074240136971997,-0.6846038842230965 m-25.78674630573663,24.41753853729044 l1.8256103579282572,0.6846038842230965 9.356253084382319,0.0 l9.58445437912335,-2.738415536892386 m-16.20229192661328,-40.163427874421664 l-7.530642726454062,-5.705032368525804 -0.9128051789641286,-1.597409063187225 l-0.4564025894820643,-17.799700989800506 1.369207768446193,-0.6846038842230965 l1.597409063187225,0.9128051789641286 2.0538116526692893,2.0538116526692893 l2.738415536892386,1.369207768446193 2.966616831633418,3.8794220105975468 l1.369207768446193,0.4564025894820643 1.597409063187225,-3.6512207158565144 l2.2820129474103217,-13.692077684461928 1.369207768446193,0.0 l1.597409063187225,14.604882863426058 0.22820129474103215,1.1410064737051608 l1.1410064737051608,0.22820129474103215 4.107623305338579,-8.215246610677157 l2.738415536892386,-2.510214242151354 5.476831073784772,-2.0538116526692893 l6.617837547489933,-0.6846038842230965 -0.6846038842230965,4.564025894820643 l-2.966616831633418,6.617837547489933 -9.58445437912335,14.604882863426058 \" fill=\"none\" stroke=\"black\" stroke-width=\"1\"/></svg>"
          },
          "metadata": {
            "tags": []
          }
        }
      ]
    },
    {
      "cell_type": "code",
      "metadata": {
        "id": "lvfvYwFXdRTZ",
        "outputId": "155779c4-5c0c-43b0-c8e0-ac3512ea0562",
        "colab": {
          "base_uri": "https://localhost:8080/",
          "height": 846
        }
      },
      "source": [
        "\n",
        "\"\"\"\n",
        "Create the model\n",
        "\n",
        "1. ENCODER\n",
        "\"\"\"\n",
        "encoder_input = tf.keras.layers.Input(batch_shape = (HP.batch_size, None, HP.input_dimention), name = \"encoder_input\" )\n",
        "\n",
        "encoderLSTM = tf.keras.layers.Bidirectional(tf.keras.layers.LSTM(HP.enc_hidden_size, return_sequences=False,\n",
        "    recurrent_dropout=HP.rec_dropout, name = \"LSTM_encoder\"), merge_mode='concat', name = \"BI_LSTM_encoder\")(encoder_input)\n",
        "\n",
        "hidden_state_mean = tf.keras.layers.Dense(HP.latent_dim, activation='linear', name = \"mean_MLP\")(encoderLSTM)\n",
        "\n",
        "variance_hat = tf.keras.layers.Dense(HP.latent_dim, activation='linear', name = \"variance_MLP\")(encoderLSTM)\n",
        "\n",
        "# from mean and variance to latent vairable z\n",
        "z = tf.keras.layers.Lambda(sampling, output_shape=(HP.latent_dim,), name='z')([hidden_state_mean, variance_hat])\n",
        "\n",
        "# create the model with keras\n",
        "encoder = tf.keras.models.Model(encoder_input, [hidden_state_mean, variance_hat, z], name='encoder')\n",
        "encoder.summary()\n",
        "#tf.keras.utils.plot_model(encoder, to_file='vae_mlp_encoder.png', show_shapes=True)\n",
        "\n",
        "\"\"\" \n",
        "DECODER \n",
        "\"\"\"\n",
        "# the decoder LSTM has an input composed by the sequence and also the hidden state\n",
        "decoder_input_sequence = tf.keras.layers.Input(batch_shape = (HP.batch_size, HP.max_seq_length, HP.input_dimention), name = \"decoder_seq_input\" )\n",
        "# we have also the latent variable as input of the LSTM with the sequence\n",
        "inputLatentVariable = tf.keras.layers.RepeatVector(HP.max_seq_length)(z)\n",
        "# so we concatentate the two vector\n",
        "# as input we have the two vector above concatenated\n",
        "totalInput = tf.keras.layers.Concatenate()([decoder_input_sequence, inputLatentVariable])\n",
        "# Create LSTM for generation with input state = tanh(z)\n",
        "decoderLSTM = tf.keras.layers.LSTM(HP.dec_hidden_size, recurrent_dropout=HP.rec_dropout, \n",
        "                                    return_sequences=True, return_state=True, name = \"LSTM_decoder\")\n",
        "#\n",
        "init_state = tf.keras.layers.Dense(units=(2*decoderLSTM.units), activation='tanh', name = \"decoder_init_stat\")(z)\n",
        "h_0, c_0 = tf.split(init_state, num_or_size_splits=2, axis = 1)\n",
        "\n",
        "# creation of the LSTM\n",
        "decoder_output, _, _ = decoderLSTM(totalInput, initial_state = [h_0, c_0])\n",
        "\n",
        "# dense to output. THe dimention is, as explained in the paper equal to 3 + 6*M\n",
        "# 6 times M= number of mixture \n",
        "output_dimention = (3 + HP.M * 6)\n",
        "distribution_output = tf.keras.layers.Dense(output_dimention, name = \"output_layer\")(decoder_output)\n",
        "\n",
        "# Build Keras model\n",
        "seq_to_seq_VAE = tf.keras.models.Model([encoder_input, decoder_input_sequence], distribution_output)\n",
        "seq_to_seq_VAE.summary()\n",
        "\n"
      ],
      "execution_count": 5,
      "outputs": [
        {
          "output_type": "stream",
          "text": [
            "Model: \"encoder\"\n",
            "__________________________________________________________________________________________________\n",
            "Layer (type)                    Output Shape         Param #     Connected to                     \n",
            "==================================================================================================\n",
            "encoder_input (InputLayer)      [(100, None, 5)]     0                                            \n",
            "__________________________________________________________________________________________________\n",
            "BI_LSTM_encoder (Bidirectional) (100, 512)           536576      encoder_input[0][0]              \n",
            "__________________________________________________________________________________________________\n",
            "mean_MLP (Dense)                (100, 256)           131328      BI_LSTM_encoder[0][0]            \n",
            "__________________________________________________________________________________________________\n",
            "variance_MLP (Dense)            (100, 256)           131328      BI_LSTM_encoder[0][0]            \n",
            "__________________________________________________________________________________________________\n",
            "z (Lambda)                      (100, 256)           0           mean_MLP[0][0]                   \n",
            "                                                                 variance_MLP[0][0]               \n",
            "==================================================================================================\n",
            "Total params: 799,232\n",
            "Trainable params: 799,232\n",
            "Non-trainable params: 0\n",
            "__________________________________________________________________________________________________\n",
            "Model: \"model\"\n",
            "__________________________________________________________________________________________________\n",
            "Layer (type)                    Output Shape         Param #     Connected to                     \n",
            "==================================================================================================\n",
            "encoder_input (InputLayer)      [(100, None, 5)]     0                                            \n",
            "__________________________________________________________________________________________________\n",
            "BI_LSTM_encoder (Bidirectional) (100, 512)           536576      encoder_input[0][0]              \n",
            "__________________________________________________________________________________________________\n",
            "mean_MLP (Dense)                (100, 256)           131328      BI_LSTM_encoder[0][0]            \n",
            "__________________________________________________________________________________________________\n",
            "variance_MLP (Dense)            (100, 256)           131328      BI_LSTM_encoder[0][0]            \n",
            "__________________________________________________________________________________________________\n",
            "z (Lambda)                      (100, 256)           0           mean_MLP[0][0]                   \n",
            "                                                                 variance_MLP[0][0]               \n",
            "__________________________________________________________________________________________________\n",
            "decoder_seq_input (InputLayer)  [(100, 200, 5)]      0                                            \n",
            "__________________________________________________________________________________________________\n",
            "repeat_vector (RepeatVector)    (100, 200, 256)      0           z[0][0]                          \n",
            "__________________________________________________________________________________________________\n",
            "concatenate (Concatenate)       (100, 200, 261)      0           decoder_seq_input[0][0]          \n",
            "                                                                 repeat_vector[0][0]              \n",
            "__________________________________________________________________________________________________\n",
            "LSTM_decoder (LSTM)             [(100, 200, 512), (1 1585152     concatenate[0][0]                \n",
            "__________________________________________________________________________________________________\n",
            "output_layer (Dense)            (100, 200, 123)      63099       LSTM_decoder[0][0]               \n",
            "==================================================================================================\n",
            "Total params: 2,447,483\n",
            "Trainable params: 2,447,483\n",
            "Non-trainable params: 0\n",
            "__________________________________________________________________________________________________\n"
          ],
          "name": "stdout"
        }
      ]
    },
    {
      "cell_type": "markdown",
      "metadata": {
        "id": "_6-ojE94Od9m"
      },
      "source": [
        "Define the loss"
      ]
    },
    {
      "cell_type": "code",
      "metadata": {
        "id": "O8kUj1hlOb_C"
      },
      "source": [
        "    KL_weight = tf.keras.backend.variable(0.01, name = 'kl_weight')\n",
        "    KL_wheight_schedule = data_Manager.changing_KL_wheight(KL_weight)\n",
        "    def vae_loss(y_true, y_pred):\n",
        "        \"\"\" Calculate loss = reconstruction loss + KL loss for each data in minibatch \"\"\"\n",
        "        # E[log P(X|z)]\n",
        "        recon = reconstruction_loss(y_true, y_pred)\n",
        "        # D_KL(Q(z|X) || P(z|X)); calculate in closed form as both dist. are Gaussian\n",
        "        kl = kl_loss(hidden_state_mean, variance_hat)\n",
        "\n",
        "        return recon + kl*KL_weight"
      ],
      "execution_count": 6,
      "outputs": []
    },
    {
      "cell_type": "code",
      "metadata": {
        "id": "XtTfyMSsUOQ0"
      },
      "source": [
        "optimizer = tf.keras.optimizers.Adam(lr = HP.lr, clipvalue= HP.grad_clip)\n",
        "seq_to_seq_VAE.compile(optimizer=optimizer,  loss = vae_loss)\n"
      ],
      "execution_count": 7,
      "outputs": []
    },
    {
      "cell_type": "code",
      "metadata": {
        "id": "DacL6r3Dd4um",
        "outputId": "f109f2bc-0ea0-408a-dfc4-77066081360f",
        "colab": {
          "base_uri": "https://localhost:8080/",
          "height": 34
        }
      },
      "source": [
        "device_name = tf.test.gpu_device_name()\n",
        "if device_name != '/device:GPU:0':\n",
        "  raise SystemError('GPU device not found')\n",
        "print('Found GPU at: {}'.format(device_name))"
      ],
      "execution_count": 8,
      "outputs": [
        {
          "output_type": "stream",
          "text": [
            "Found GPU at: /device:GPU:0\n"
          ],
          "name": "stdout"
        }
      ]
    },
    {
      "cell_type": "code",
      "metadata": {
        "id": "7axRtgETdjwG",
        "outputId": "c3808df6-235f-4d55-d0bd-2bef9660f0a8",
        "colab": {
          "base_uri": "https://localhost:8080/",
          "height": 426
        }
      },
      "source": [
        "with tf.device('/device:GPU:0'):\n",
        "  history = seq_to_seq_VAE.fit_generator(train_generator,\n",
        "                       validation_data= ([validation_encoder, validation_decoder],[validation_encoder]),\n",
        "                       steps_per_epoch=(datas.trainDimention)/HP.batch_size, \n",
        "                       epochs=HP.epochs, \n",
        "                       callbacks=[KL_wheight_schedule])\n",
        "# save the model\n",
        "seq_to_seq_VAE.save_weights(\"model_weight_carrot_20_epochs.h5\")"
      ],
      "execution_count": 9,
      "outputs": [
        {
          "output_type": "stream",
          "text": [
            "Epoch 1/10\n",
            "WARNING:tensorflow:From /usr/local/lib/python3.6/dist-packages/tensorflow/python/ops/math_grad.py:1250: add_dispatch_support.<locals>.wrapper (from tensorflow.python.ops.array_ops) is deprecated and will be removed in a future version.\n",
            "Instructions for updating:\n",
            "Use tf.where in 2.0, which has the same broadcast rule as np.where\n",
            "700/700 [==============================] - 737s 1s/step - loss: 0.8061 - val_loss: 0.6546\n",
            "Epoch 2/10\n",
            "700/700 [==============================] - 738s 1s/step - loss: 0.6163 - val_loss: 0.5959\n",
            "Epoch 3/10\n",
            "700/700 [==============================] - 738s 1s/step - loss: 0.5790 - val_loss: 0.5700\n",
            "Epoch 4/10\n",
            "700/700 [==============================] - 734s 1s/step - loss: 0.5581 - val_loss: 0.5527\n",
            "Epoch 5/10\n",
            "700/700 [==============================] - 732s 1s/step - loss: 0.5429 - val_loss: 0.5400\n",
            "Epoch 6/10\n",
            "700/700 [==============================] - 731s 1s/step - loss: 0.5316 - val_loss: 0.5307\n",
            "Epoch 7/10\n",
            "700/700 [==============================] - 730s 1s/step - loss: 0.5230 - val_loss: 0.5235\n",
            "Epoch 8/10\n",
            "700/700 [==============================] - 731s 1s/step - loss: 0.5186 - val_loss: 0.5196\n",
            "Epoch 9/10\n",
            "700/700 [==============================] - 728s 1s/step - loss: 0.5120 - val_loss: 0.5131\n",
            "Epoch 10/10\n",
            "700/700 [==============================] - 742s 1s/step - loss: 0.5069 - val_loss: 0.5090\n"
          ],
          "name": "stdout"
        }
      ]
    },
    {
      "cell_type": "markdown",
      "metadata": {
        "id": "q8auMLOlPF05"
      },
      "source": [
        "Plot the history"
      ]
    },
    {
      "cell_type": "code",
      "metadata": {
        "id": "OMOfu0LYgLZt",
        "outputId": "1d24d4d5-e94f-442d-a9d0-522cad9aa7b8",
        "colab": {
          "base_uri": "https://localhost:8080/",
          "height": 311
        }
      },
      "source": [
        "import matplotlib.pyplot as plt\n",
        "import numpy as np\n",
        "print(history.history.keys())\n",
        "# summarize history for loss\n",
        "plt.plot(history.history['loss'])\n",
        "plt.plot(history.history['val_loss'])\n",
        "plt.title('model loss')\n",
        "plt.ylabel('loss')\n",
        "plt.xlabel('epoch')\n",
        "plt.legend(['train', 'test'], loc='upper left')\n",
        "plt.show()"
      ],
      "execution_count": 10,
      "outputs": [
        {
          "output_type": "stream",
          "text": [
            "dict_keys(['loss', 'val_loss'])\n"
          ],
          "name": "stdout"
        },
        {
          "output_type": "display_data",
          "data": {
            "image/png": "[encoded data removed]",
            "text/plain": [
              "<Figure size 432x288 with 1 Axes>"
            ]
          },
          "metadata": {
            "tags": [],
            "needs_background": "light"
          }
        }
      ]
    },
    {
      "cell_type": "code",
      "metadata": {
        "id": "kJFbuw9GAK2l"
      },
      "source": [
        "seq_to_seq_VAE.load_weights(\"model_weight_carrot_20_epochs.h5\", by_name = True)\n"
      ],
      "execution_count": 19,
      "outputs": []
    },
    {
      "cell_type": "code",
      "metadata": {
        "id": "Fy_NJOcr-SH3",
        "outputId": "32c68b35-f85a-48c9-fd30-e6765299c73b",
        "colab": {
          "base_uri": "https://localhost:8080/",
          "height": 355
        }
      },
      "source": [
        "HP.epocs = 20\n",
        "with tf.device('/device:GPU:0'):\n",
        "  history = seq_to_seq_VAE.fit_generator(train_generator,\n",
        "                       validation_data= ([validation_encoder, validation_decoder],[validation_encoder]),\n",
        "                       steps_per_epoch=(datas.trainDimention)/HP.batch_size, \n",
        "                       epochs=20, \n",
        "                       callbacks=[KL_wheight_schedule], initial_epoch = 10)\n",
        "# save the model\n",
        "seq_to_seq_VAE.save_weights(\"model_weight_carrot_50_epochs.h5\")\n"
      ],
      "execution_count": 22,
      "outputs": [
        {
          "output_type": "stream",
          "text": [
            "Epoch 11/20\n",
            "700/700 [==============================] - 765s 1s/step - loss: 0.5030 - val_loss: 0.5064\n",
            "Epoch 12/20\n",
            "700/700 [==============================] - 755s 1s/step - loss: 0.4997 - val_loss: 0.5033\n",
            "Epoch 13/20\n",
            "700/700 [==============================] - 738s 1s/step - loss: 0.4967 - val_loss: 0.4996\n",
            "Epoch 14/20\n",
            "700/700 [==============================] - 735s 1s/step - loss: 0.4938 - val_loss: 0.4979\n",
            "Epoch 15/20\n",
            "700/700 [==============================] - 730s 1s/step - loss: 0.4916 - val_loss: 0.4954\n",
            "Epoch 16/20\n",
            "700/700 [==============================] - 730s 1s/step - loss: 0.4893 - val_loss: 0.4941\n",
            "Epoch 17/20\n",
            "700/700 [==============================] - 733s 1s/step - loss: 0.4875 - val_loss: 0.4928\n",
            "Epoch 18/20\n",
            "700/700 [==============================] - 729s 1s/step - loss: 0.4857 - val_loss: 0.4916\n",
            "Epoch 19/20\n",
            "700/700 [==============================] - 729s 1s/step - loss: 0.4841 - val_loss: 0.4907\n",
            "Epoch 20/20\n",
            "700/700 [==============================] - 733s 1s/step - loss: 0.4827 - val_loss: 0.4893\n"
          ],
          "name": "stdout"
        }
      ]
    },
    {
      "cell_type": "code",
      "metadata": {
        "id": "N2kRnCnZ_a7t",
        "outputId": "b5fe145c-24d1-4b81-8f5c-12bac3c590cd",
        "colab": {
          "base_uri": "https://localhost:8080/",
          "height": 311
        }
      },
      "source": [
        "import matplotlib.pyplot as plt\n",
        "import numpy as np\n",
        "print(history.history.keys())\n",
        "# summarize history for loss\n",
        "plt.plot(history.history['loss'])\n",
        "plt.plot(history.history['val_loss'])\n",
        "plt.title('model loss')\n",
        "plt.ylabel('loss')\n",
        "plt.xlabel('epoch')\n",
        "plt.legend(['train', 'test'], loc='upper left')\n",
        "plt.show()"
      ],
      "execution_count": 23,
      "outputs": [
        {
          "output_type": "stream",
          "text": [
            "dict_keys(['loss', 'val_loss'])\n"
          ],
          "name": "stdout"
        },
        {
          "output_type": "display_data",
          "data": {
            "image/png": "[encoded data removed]",
            "text/plain": [
              "<Figure size 432x288 with 1 Axes>"
            ]
          },
          "metadata": {
            "tags": [],
            "needs_background": "light"
          }
        }
      ]
    },
    {
      "cell_type": "code",
      "metadata": {
        "id": "e6Ix-Ij6-SQO"
      },
      "source": [
        ""
      ],
      "execution_count": null,
      "outputs": []
    }
  ]
}